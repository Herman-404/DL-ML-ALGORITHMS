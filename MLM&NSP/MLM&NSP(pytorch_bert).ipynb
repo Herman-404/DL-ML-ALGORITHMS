{
 "cells": [
  {
   "cell_type": "markdown",
   "metadata": {
    "collapsed": true,
    "pycharm": {
     "name": "#%% md\n"
    }
   },
   "source": [
    "python 3.8 + pytorch 1.8"
   ]
  },
  {
   "cell_type": "markdown",
   "source": [
    "# 目的：利用PyTorch-Transformers框架实现遮蔽语言模型及句对预测模型\n",
    "- 输入：id序列(input)\n",
    "- 输出：预测id序列(decoder_output)\n",
    "- 主要步骤：\n",
    " 1. 遮蔽语言模型\n",
    "    1. 数据预处理：句子分词（中文分字）\n",
    "    2. 读取预训练模型\n",
    "    3. 模型预测\n",
    " 2. 句对预测模型\n",
    "    1. 数据预处理：分词，id化，构造分段id\n",
    "    2. 读取预训练模型\n",
    "    3. 模型预测"
   ],
   "metadata": {
    "collapsed": false,
    "pycharm": {
     "name": "#%% md\n"
    }
   }
  },
  {
   "cell_type": "markdown",
   "source": [
    "## 1. 遮蔽语言模型"
   ],
   "metadata": {
    "collapsed": false,
    "pycharm": {
     "name": "#%% md\n"
    }
   }
  },
  {
   "cell_type": "markdown",
   "source": [
    "### a. 数据预处理"
   ],
   "metadata": {
    "collapsed": false,
    "pycharm": {
     "name": "#%% md\n"
    }
   }
  },
  {
   "cell_type": "code",
   "execution_count": null,
   "outputs": [],
   "source": [
    "import torch\n",
    "from pytorch_transformers import BertTokenizer\n",
    "\n",
    "model_name = 'bert-base-chinese'  # 指定实验需下载的预训练模型参数\n",
    "\n",
    "# BERT 在预训练中引入了 [CLS] 和 [SEP] 标记句子的开头和结尾\n",
    "samples = ['[CLS] 中国的首都是哪里？ [SEP] 北京是 [MASK] 国的首都。 [SEP]']  # 准备输入模型的语句\n",
    "MASKED_LOC = 14\n",
    "tokenizer = BertTokenizer.from_pretrained(model_name)\n",
    "tokenized_text = [tokenizer.tokenize(i) for i in samples]\n",
    "input_ids = [tokenizer.convert_tokens_to_ids(i) for i in tokenized_text]\n",
    "input_ids = torch.LongTensor(input_ids)\n",
    "input_ids"
   ],
   "metadata": {
    "collapsed": false,
    "pycharm": {
     "name": "#%%\n"
    }
   }
  },
  {
   "cell_type": "markdown",
   "source": [
    "### b. 读取预训练模型"
   ],
   "metadata": {
    "collapsed": false,
    "pycharm": {
     "name": "#%% md\n"
    }
   }
  },
  {
   "cell_type": "code",
   "execution_count": null,
   "outputs": [],
   "source": [
    "from pytorch_transformers import BertForMaskedLM\n",
    "\n",
    "model = BertForMaskedLM.from_pretrained(model_name, cache_dir=\"./\")\n",
    "model.eval() # 验证模式，只前向传播，不更新参数"
   ],
   "metadata": {
    "collapsed": false,
    "pycharm": {
     "name": "#%%\n"
    }
   }
  },
  {
   "cell_type": "markdown",
   "source": [
    "### c. 模型预测"
   ],
   "metadata": {
    "collapsed": false,
    "pycharm": {
     "name": "#%% md\n"
    }
   }
  },
  {
   "cell_type": "code",
   "execution_count": null,
   "outputs": [],
   "source": [
    "outputs = model(input_ids)\n",
    "prediction_scores = outputs[0]\n",
    "prediction_scores.shape"
   ],
   "metadata": {
    "collapsed": false,
    "pycharm": {
     "name": "#%%\n"
    }
   }
  },
  {
   "cell_type": "code",
   "source": [
    "#  选取可能性最大的预测结果\n",
    "\n",
    "import numpy as np\n",
    "\n",
    "sample = prediction_scores[0].detach().numpy()\n",
    "pred = np.argmax(sample, axis=1)\n",
    "\n",
    "tokenizer.convert_ids_to_tokens(pred)[MASKED_LOC]\n",
    "outputs = model(input_ids)\n",
    "prediction_scores = outputs[0]\n",
    "prediction_scores.shape"
   ],
   "metadata": {
    "collapsed": false,
    "pycharm": {
     "name": "#%%\n"
    }
   },
   "execution_count": null,
   "outputs": []
  },
  {
   "cell_type": "markdown",
   "source": [
    "## 2. 句对预测"
   ],
   "metadata": {
    "collapsed": false,
    "pycharm": {
     "name": "#%% md\n"
    }
   }
  },
  {
   "cell_type": "markdown",
   "source": [
    "### a. 数据预处理：分词，id化，构造分段id"
   ],
   "metadata": {
    "collapsed": false,
    "pycharm": {
     "name": "#%% md\n"
    }
   }
  },
  {
   "cell_type": "code",
   "execution_count": null,
   "outputs": [],
   "source": [
    "samples = [\"[CLS]今天天气怎么样？[SEP]今天天气很好。[SEP]\", \"[CLS]小明今年几岁了？[SEP]小明爱吃西瓜。[SEP]\"]\n",
    "tokenizer = BertTokenizer.from_pretrained(model_name)\n",
    "tokenized_text = [tokenizer.tokenize(i) for i in samples]\n",
    "input_ids = [tokenizer.convert_tokens_to_ids(i) for i in tokenized_text]\n",
    "input_ids = torch.LongTensor(input_ids)\n",
    "input_ids\n",
    "\n",
    "# 构造句子分段ID\n",
    "segments_ids = [[0, 0, 0, 0, 0, 0, 0, 0, 0, 0, 1, 1, 1, 1, 1, 1, 1, 1],\n",
    "                [0, 0, 0, 0, 0, 0, 0, 0, 0, 0, 1, 1, 1, 1, 1, 1, 1, 1]]\n",
    "\n",
    "segments_tensors = torch.tensor(segments_ids)\n",
    "segments_tensors"
   ],
   "metadata": {
    "collapsed": false,
    "pycharm": {
     "name": "#%%\n"
    }
   }
  },
  {
   "cell_type": "markdown",
   "source": [
    "### b. 读取预训练模型"
   ],
   "metadata": {
    "collapsed": false,
    "pycharm": {
     "name": "#%% md\n"
    }
   }
  },
  {
   "cell_type": "code",
   "execution_count": null,
   "outputs": [],
   "source": [
    "from pytorch_transformers import BertForNextSentencePrediction\n",
    "\n",
    "model = BertForNextSentencePrediction.from_pretrained(\n",
    "    model_name, cache_dir=\"./\")\n",
    "model.eval() # 同上，模型‘冷冻’"
   ],
   "metadata": {
    "collapsed": false,
    "pycharm": {
     "name": "#%%\n"
    }
   }
  },
  {
   "cell_type": "markdown",
   "source": [
    "### c. 模型预测"
   ],
   "metadata": {
    "collapsed": false,
    "pycharm": {
     "name": "#%% md\n"
    }
   }
  },
  {
   "cell_type": "code",
   "execution_count": null,
   "outputs": [],
   "source": [
    "outputs = model(input_ids)\n",
    "seq_relationship_scores = outputs[0]\n",
    "seq_relationship_scores"
   ],
   "metadata": {
    "collapsed": false,
    "pycharm": {
     "name": "#%%\n"
    }
   }
  },
  {
   "cell_type": "code",
   "execution_count": null,
   "outputs": [],
   "source": [
    "# 输出二分类预测结果\n",
    "sample = seq_relationship_scores.detach().numpy()\n",
    "pred = np.argmax(sample, axis=1)\n",
    "pred"
   ],
   "metadata": {
    "collapsed": false,
    "pycharm": {
     "name": "#%%\n"
    }
   }
  }
 ],
 "metadata": {
  "kernelspec": {
   "display_name": "Python 3",
   "language": "python",
   "name": "python3"
  },
  "language_info": {
   "codemirror_mode": {
    "name": "ipython",
    "version": 2
   },
   "file_extension": ".py",
   "mimetype": "text/x-python",
   "name": "python",
   "nbconvert_exporter": "python",
   "pygments_lexer": "ipython2",
   "version": "2.7.6"
  }
 },
 "nbformat": 4,
 "nbformat_minor": 0
}