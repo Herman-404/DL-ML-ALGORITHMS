{
 "cells": [
  {
   "cell_type": "markdown",
   "source": [
    "python 3.8 + pytorch 1.8"
   ],
   "metadata": {
    "collapsed": false,
    "pycharm": {
     "name": "#%% md\n"
    }
   }
  },
  {
   "cell_type": "markdown",
   "source": [
    "# 搭建Vanilla RNN\n",
    "\n",
    "- 目的：搭建简单的RNN模型并进行尺寸测试\n",
    "- 主要步骤：\n",
    "1. 输入尺寸分析\n",
    "2. 构建模型\n",
    "3. 模型初始化\n",
    "4 .测试"
   ],
   "metadata": {
    "collapsed": false,
    "pycharm": {
     "name": "#%% md\n"
    }
   }
  },
  {
   "cell_type": "markdown",
   "metadata": {
    "collapsed": true,
    "pycharm": {
     "name": "#%% md\n"
    }
   },
   "source": [
    "##  1. 输入尺寸分析"
   ]
  },
  {
   "cell_type": "code",
   "execution_count": null,
   "outputs": [],
   "source": [
    "import torch\n",
    "import torch.nn as nn\n",
    "# input_size 为输入数据维数，即单词稀疏向量长度\n",
    "# hidden_size 为输出维数\n",
    "lstm = nn.LSTM(input_size=10, hidden_size=30)\n",
    "\n",
    "seq_len = 2 # 表示参与训练的总batch数(1epoch==seq_len*batch_size)\n",
    "batch_size = 10 # batch_zie代表一批几个单词参与训练\n",
    "input_size = 10 # 单词稀疏向量长度\n",
    "# 模拟数据\n",
    "x = torch.randn((seq_len, batch_size, input_size))\n",
    "\n",
    "y, (h, c) = lstm(x)\n",
    "print(y.shape)\n",
    "print(h.shape) # 单向单层LSTM隐藏状态0维为1\n",
    "print(c.shape) # 同h"
   ],
   "metadata": {
    "collapsed": false,
    "pycharm": {
     "name": "#%%\n"
    }
   }
  },
  {
   "cell_type": "markdown",
   "source": [
    "## 2. 构建模型："
   ],
   "metadata": {
    "collapsed": false,
    "pycharm": {
     "name": "#%% md\n"
    }
   }
  },
  {
   "cell_type": "code",
   "execution_count": null,
   "outputs": [],
   "source": [
    "# 结构：输入层->embed层->lstm层->fc层\n",
    "class LSTM(nn.Module):\n",
    "    def __init__(self, embedding_dim, hidden_dim, vocab_size, output_size):\n",
    "        super(LSTM, self).__init__()\n",
    "        self.embed = nn.Embedding(vocab_size, embedding_dim)  # 词向量层\n",
    "        self.lstm = nn.LSTM(embedding_dim, hidden_dim)  # LSTM 层\n",
    "        # 全连接输出分类层, output_size 为类别大小，输出各词概率\n",
    "        self.fc = nn.Linear(hidden_dim, output_size)\n",
    "\n",
    "    def forward(self, x):\n",
    "        # x: [seq_len, batch_size]\n",
    "        embeds = self.embed(x)  # 经由词向量层\n",
    "        # embeds: [seq_len, batch_size, embedding_dim]\n",
    "        lstm_out, _ = self.lstm(embeds)  # 经同由 LSTM 层\n",
    "        # lstm_out: [seq_len, batch_size, hidden_dim]\n",
    "        y = self.fc(lstm_out[-1])  # 取最后一步的输出进入最后的分类层\n",
    "        # y: [batch_size, output_size]\n",
    "        return y"
   ],
   "metadata": {
    "collapsed": false,
    "pycharm": {
     "name": "#%%\n"
    }
   }
  },
  {
   "cell_type": "code",
   "source": [
    "# 定义全局变量\n",
    "EMBEDDING_DIM = 128  # 词向量的大小为 128，embedding层输出维度\n",
    "HIDDEN_DIM = 216  # 隐层大小为 216,LSTM层输出维度\n",
    "VOCAB_DIM = 1000  # 词典大小为 1000，embedding_lookup词典大小\n",
    "OUTPUT_SIZE = 3  # 输出类别为 3 类\n"
   ],
   "metadata": {
    "collapsed": false,
    "pycharm": {
     "name": "#%%\n"
    }
   },
   "execution_count": 25,
   "outputs": []
  },
  {
   "cell_type": "markdown",
   "source": [
    "## 3. 模型初始化"
   ],
   "metadata": {
    "collapsed": false,
    "pycharm": {
     "name": "#%% md\n"
    }
   }
  },
  {
   "cell_type": "code",
   "execution_count": null,
   "outputs": [],
   "source": [
    "my_lstm = LSTM(EMBEDDING_DIM, HIDDEN_DIM, VOCAB_DIM, OUTPUT_SIZE)\n",
    "my_lstm"
   ],
   "metadata": {
    "collapsed": false,
    "pycharm": {
     "name": "#%%\n"
    }
   }
  },
  {
   "cell_type": "markdown",
   "source": [
    "## 4. 测试"
   ],
   "metadata": {
    "collapsed": false,
    "pycharm": {
     "name": "#%% md\n"
    }
   }
  },
  {
   "cell_type": "code",
   "execution_count": null,
   "outputs": [],
   "source": [
    "# seq_len 为 2，batch_size 为 4，各数字表示某单词的 id\n",
    "x = torch.tensor([[1, 4, 5, 5], [3, 4, 9, 5]])\n",
    "print(x)\n",
    "# x 大小为 [batch_size, seq_len],需要转置\n",
    "y = my_lstm(x.permute(1, 0))\n",
    "print(y)\n",
    "y.shape"
   ],
   "metadata": {
    "collapsed": false,
    "pycharm": {
     "name": "#%%\n"
    }
   }
  }
 ],
 "metadata": {
  "kernelspec": {
   "display_name": "Python 3",
   "language": "python",
   "name": "python3"
  },
  "language_info": {
   "codemirror_mode": {
    "name": "ipython",
    "version": 2
   },
   "file_extension": ".py",
   "mimetype": "text/x-python",
   "name": "python",
   "nbconvert_exporter": "python",
   "pygments_lexer": "ipython2",
   "version": "2.7.6"
  }
 },
 "nbformat": 4,
 "nbformat_minor": 0
}