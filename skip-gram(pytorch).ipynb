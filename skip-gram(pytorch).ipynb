{
 "cells": [
  {
   "cell_type": "code",
   "execution_count": 3,
   "metadata": {
    "collapsed": true
   },
   "outputs": [
    {
     "name": "stdout",
     "output_type": "stream",
     "text": [
      "1.8.1\n"
     ]
    }
   ],
   "source": [
    "import torch as to\n",
    "\n",
    "print(to.__version__)"
   ]
  },
  {
   "cell_type": "markdown",
   "source": [
    "# pytorch 搭建skip-gram模型进行embedding转换\n",
    "\n",
    "- 目的：词汇embedding转换\n",
    "- 输入：输入文本(text)\n",
    "- 输出：embedding_lookup矩阵(model.state_dict()[\"in_embed.weight\"])\n",
    "- 主要步骤：\n",
    "1. 文本预处理\n",
    "2. 获取批次训练数据\n",
    "3. 构建模型及损失器\n",
    "4. 模型训练\n",
    "5. 词向量可视化"
   ],
   "metadata": {
    "collapsed": false
   }
  },
  {
   "cell_type": "markdown",
   "source": [
    "## 0.全局变量设置"
   ],
   "metadata": {
    "collapsed": false
   }
  },
  {
   "cell_type": "code",
   "execution_count": null,
   "outputs": [],
   "source": [
    "EMBEDDING_DIM = 2  # 词向量维度\n",
    "PRINT_EVERY = 1000  # 每训练多少步可视化一次\n",
    "EPOCHS = 1000  # 训练的轮数\n",
    "BATCH_SIZE = 5  # 每一批训练数据中输入词的个数\n",
    "N_SAMPLES = 3  # 负样本大小\n",
    "WINDOW_SIZE = 5  # 周边词窗口大小\n",
    "FREQ = 0  # 去除低频词的阈值\n",
    "DELETE_WORDS = False  # 是否进行高频词抽样处理"
   ],
   "metadata": {
    "collapsed": false,
    "pycharm": {
     "name": "#%%\n"
    }
   }
  },
  {
   "cell_type": "markdown",
   "source": [
    "## 1.文本预处理"
   ],
   "metadata": {
    "collapsed": false
   }
  },
  {
   "cell_type": "code",
   "execution_count": null,
   "outputs": [],
   "source": [
    "# 导入输入文本\n",
    "text = '\"i like dog i like cat i like animal dog cat animal apple cat dog like dog fish milk like dog \\\n",
    "cat eyes like i like apple apple i hate apple i movie book music like cat dog hate cat dog like\"'"
   ],
   "metadata": {
    "collapsed": false,
    "pycharm": {
     "name": "#%%\n"
    }
   }
  },
  {
   "cell_type": "code",
   "execution_count": null,
   "outputs": [],
   "source": [
    "from collections import Counter\n",
    "# 文本预处理\n",
    "def preprocess(text, FREQ):\n",
    "    words = text.lower().split() # 转小写单词\n",
    "    word_counts = Counter(words)\n",
    "    trimmed_words = [word for word in words if word_counts[word] > FREQ]\n",
    "    return trimmed_words"
   ],
   "metadata": {
    "collapsed": false,
    "pycharm": {
     "name": "#%%\n"
    }
   }
  },
  {
   "cell_type": "code",
   "execution_count": null,
   "outputs": [],
   "source": [
    "# 建立单词和索引的一一映射\n",
    "def word_id_mappind(words):\n",
    "    word2id, id2word = {}, {}\n",
    "    for word in words:\n",
    "        if word not in word2id:\n",
    "            id = id2word\n",
    "            word2id[word] = id\n",
    "            id2word[id] = word\n",
    "    id_words= [word2id[word] for word in words]\n",
    "    return id_words"
   ],
   "metadata": {
    "collapsed": false,
    "pycharm": {
     "name": "#%%\n"
    }
   }
  },
  {
   "cell_type": "code",
   "execution_count": null,
   "outputs": [],
   "source": [],
   "metadata": {
    "collapsed": false,
    "pycharm": {
     "name": "#%%\n"
    }
   }
  }
 ],
 "metadata": {
  "kernelspec": {
   "display_name": "Python 3",
   "language": "python",
   "name": "python3"
  },
  "language_info": {
   "codemirror_mode": {
    "name": "ipython",
    "version": 2
   },
   "file_extension": ".py",
   "mimetype": "text/x-python",
   "name": "python",
   "nbconvert_exporter": "python",
   "pygments_lexer": "ipython2",
   "version": "2.7.6"
  }
 },
 "nbformat": 4,
 "nbformat_minor": 0
}