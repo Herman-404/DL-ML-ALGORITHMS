{
 "cells": [
  {
   "cell_type": "code",
   "execution_count": 3,
   "metadata": {
    "collapsed": true
   },
   "outputs": [
    {
     "name": "stdout",
     "output_type": "stream",
     "text": [
      "1.8.1\n"
     ]
    }
   ],
   "source": [
    "import torch as to\n",
    "\n",
    "print(to.__version__)"
   ]
  },
  {
   "cell_type": "markdown",
   "source": [
    "# pytorch 搭建skip-gram模型进行embedding转换\n",
    "\n",
    "- 目的：词汇embedding转换\n",
    "- 输入：输入文本(text)\n",
    "- 输出：embedding_lookup矩阵(model.state_dict()[\"in_embed.weight\"])\n",
    "- 主要步骤：\n",
    "1. 文本预处理\n",
    "2. 获取批次训练数据\n",
    "3. 构建模型及损失器\n",
    "4. 模型训练\n",
    "5. 词向量可视化"
   ],
   "metadata": {
    "collapsed": false
   }
  },
  {
   "cell_type": "markdown",
   "source": [
    "## 0.全局变量设置"
   ],
   "metadata": {
    "collapsed": false
   }
  },
  {
   "cell_type": "code",
   "execution_count": null,
   "outputs": [],
   "source": [
    "EMBEDDING_DIM = 2  # 词向量维度\n",
    "PRINT_EVERY = 1000  # 每训练多少步可视化一次\n",
    "EPOCHS = 1000  # 训练的轮数\n",
    "BATCH_SIZE = 5  # 每一批训练数据中输入词的个数\n",
    "N_SAMPLES = 3  # 负样本大小\n",
    "WINDOW_SIZE = 5  # 周边词窗口大小\n",
    "FREQ = 0  # 去除低频词的阈值\n",
    "Dropout_WORDS = False  # 是否进行高频词抽样处理"
   ],
   "metadata": {
    "collapsed": false,
    "pycharm": {
     "name": "#%%\n"
    }
   }
  },
  {
   "cell_type": "markdown",
   "source": [
    "## 1.文本预处理"
   ],
   "metadata": {
    "collapsed": false
   }
  },
  {
   "cell_type": "code",
   "execution_count": null,
   "outputs": [],
   "source": [
    "# 导入输入文本\n",
    "text = '\"i like dog i like cat i like animal dog cat animal apple cat dog like dog fish milk like dog \\\n",
    "cat eyes like i like apple apple i hate apple i movie book music like cat dog hate cat dog like\"'"
   ],
   "metadata": {
    "collapsed": false,
    "pycharm": {
     "name": "#%%\n"
    }
   }
  },
  {
   "cell_type": "code",
   "execution_count": null,
   "outputs": [],
   "source": [
    "from collections import Counter\n",
    "# 文本预处理\n",
    "def preprocess(text, FREQ):\n",
    "    words = text.lower().split() # 转小写单词\n",
    "    word_counts = Counter(words)\n",
    "    trimmed_words = [word for word in words if word_counts[word] > FREQ]\n",
    "    return trimmed_words"
   ],
   "metadata": {
    "collapsed": false,
    "pycharm": {
     "name": "#%%\n"
    }
   }
  },
  {
   "cell_type": "code",
   "execution_count": null,
   "outputs": [],
   "source": [
    "# 建立单词和索引的一一映射\n",
    "def word_id_mappind(words):\n",
    "    word2id, id2word = {}, {}\n",
    "    for word in words:\n",
    "        if word not in word2id:\n",
    "            id = id2word\n",
    "            word2id[word] = id\n",
    "            id2word[id] = word\n",
    "    id_words= [word2id[word] for word in words]\n",
    "    return id_words"
   ],
   "metadata": {
    "collapsed": false,
    "pycharm": {
     "name": "#%%\n"
    }
   }
  },
  {
   "cell_type": "code",
   "execution_count": null,
   "outputs": [],
   "source": [
    "# 计算单词的频次及负采样概率（抽样及负采样需要）\n",
    "import numpy as np\n",
    "import torch\n",
    "def figure_freq(id_words):\n",
    "    cnt_words = Counter(id_words)\n",
    "    cnt_total = len(cnt_words)\n",
    "    word_freqs = {word: cnt/cnt_total for word, cnt in cnt_words.items()}\n",
    "\n",
    "    word_probs = np.array((list(word_freqs.values())))\n",
    "    noise_probs = torch.from_numpy(word_probs**0.75 / np.sum(word_freqs**0.75))\n",
    "\n",
    "    return word_freqs, noise_probs"
   ],
   "metadata": {
    "collapsed": false,
    "pycharm": {
     "name": "#%%\n"
    }
   }
  },
  {
   "cell_type": "code",
   "execution_count": 4,
   "outputs": [
    {
     "ename": "NameError",
     "evalue": "name 'Dropout_WORDS' is not defined",
     "output_type": "error",
     "traceback": [
      "\u001B[1;31m---------------------------------------------------------------------------\u001B[0m",
      "\u001B[1;31mNameError\u001B[0m                                 Traceback (most recent call last)",
      "\u001B[1;32mC:\\Users\\ADMINI~1\\AppData\\Local\\Temp/ipykernel_8400/2363704731.py\u001B[0m in \u001B[0;36m<module>\u001B[1;34m\u001B[0m\n\u001B[0;32m      1\u001B[0m \u001B[1;31m# 丢弃部分单词\u001B[0m\u001B[1;33m\u001B[0m\u001B[1;33m\u001B[0m\u001B[1;33m\u001B[0m\u001B[0m\n\u001B[0;32m      2\u001B[0m \u001B[1;32mimport\u001B[0m \u001B[0mrandom\u001B[0m\u001B[1;33m\u001B[0m\u001B[1;33m\u001B[0m\u001B[0m\n\u001B[1;32m----> 3\u001B[1;33m \u001B[1;32mif\u001B[0m \u001B[0mDropout_WORDS\u001B[0m\u001B[1;33m:\u001B[0m\u001B[1;33m\u001B[0m\u001B[1;33m\u001B[0m\u001B[0m\n\u001B[0m\u001B[0;32m      4\u001B[0m     \u001B[0mt\u001B[0m \u001B[1;33m=\u001B[0m \u001B[1;36m1e-5\u001B[0m\u001B[1;33m\u001B[0m\u001B[1;33m\u001B[0m\u001B[0m\n\u001B[0;32m      5\u001B[0m     \u001B[0mdrop_probs\u001B[0m \u001B[1;33m=\u001B[0m \u001B[1;33m{\u001B[0m\u001B[0mword\u001B[0m\u001B[1;33m:\u001B[0m \u001B[1;36m1\u001B[0m\u001B[1;33m-\u001B[0m\u001B[0mnp\u001B[0m\u001B[1;33m.\u001B[0m\u001B[0msqrt\u001B[0m\u001B[1;33m(\u001B[0m\u001B[0mt\u001B[0m\u001B[1;33m/\u001B[0m\u001B[0mword_freqs\u001B[0m\u001B[1;33m[\u001B[0m\u001B[0mw\u001B[0m\u001B[1;33m]\u001B[0m\u001B[1;33m)\u001B[0m \u001B[1;32mfor\u001B[0m \u001B[0mword\u001B[0m \u001B[1;32min\u001B[0m \u001B[0mid_word\u001B[0m\u001B[1;33m}\u001B[0m\u001B[1;33m\u001B[0m\u001B[1;33m\u001B[0m\u001B[0m\n",
      "\u001B[1;31mNameError\u001B[0m: name 'Dropout_WORDS' is not defined"
     ]
    }
   ],
   "source": [
    "# 丢弃部分单词\n",
    "import random\n",
    "def dropout_words(id_words):\n",
    "    if Dropout_WORDS:\n",
    "        t = 1e-5\n",
    "        drop_probs = {word: 1-np.sqrt(t/word_freqs[w]) for word in id_words}\n",
    "        train_words = [word for word in id_words if random.random()>drop_probs[word]]\n",
    "    else:\n",
    "        train_words = id_words\n",
    "    return train_words"
   ],
   "metadata": {
    "collapsed": false,
    "pycharm": {
     "name": "#%%\n"
    }
   }
  },
  {
   "cell_type": "code",
   "execution_count": null,
   "outputs": [],
   "source": [
    "# 获取指定下标的输入词的周边词\n",
    "def get_targets(words, idx, window_size):\n",
    "    start_idx = idx - window_size if (idx-win_size) > 0 else 0\n",
    "    end_idx = idx + window_size\n",
    "    targets = words[start_idx:idx] + words[idx+1:end_idx]\n",
    "    return targets"
   ],
   "metadata": {
    "collapsed": false,
    "pycharm": {
     "name": "#%%\n"
    }
   }
  },
  {
   "cell_type": "code",
   "execution_count": null,
   "outputs": [],
   "source": [
    "# 获取批次（输入-输出）词对\n",
    "def get_batch(words, batch_size, window_size):\n",
    "    batchs = len(words) // batch_size\n",
    "    words = words[:batchs*batch_size]\n",
    "\n",
    "    for idx in range(0, len(words), batch_size):\n",
    "        batch_X, batch_y = [], []\n",
    "        cur_batch = words[idx:idx+batch_size]\n",
    "        for jdx in range(batch_size):\n",
    "            x = cur_batch[jdx]\n",
    "            y = get_targets(batch, jdx, window_size)\n",
    "            # 一个输入对多个输出，为了使输入输出一致，复制\n",
    "            batch_X.extend([x]*len(y))\n",
    "            batch_y.extend(y)\n",
    "        yield batch_X, batch_y"
   ],
   "metadata": {
    "collapsed": false,
    "pycharm": {
     "name": "#%%\n"
    }
   }
  },
  {
   "cell_type": "code",
   "execution_count": null,
   "outputs": [],
   "source": [],
   "metadata": {
    "collapsed": false,
    "pycharm": {
     "name": "#%%\n"
    }
   }
  }
 ],
 "metadata": {
  "kernelspec": {
   "display_name": "Python 3",
   "language": "python",
   "name": "python3"
  },
  "language_info": {
   "codemirror_mode": {
    "name": "ipython",
    "version": 2
   },
   "file_extension": ".py",
   "mimetype": "text/x-python",
   "name": "python",
   "nbconvert_exporter": "python",
   "pygments_lexer": "ipython2",
   "version": "2.7.6"
  }
 },
 "nbformat": 4,
 "nbformat_minor": 0
}