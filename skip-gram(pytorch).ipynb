{
 "cells": [
  {
   "cell_type": "code",
   "execution_count": 3,
   "metadata": {
    "collapsed": true
   },
   "outputs": [
    {
     "name": "stdout",
     "output_type": "stream",
     "text": [
      "1.8.1\n"
     ]
    }
   ],
   "source": [
    "import torch as to\n",
    "\n",
    "print(to.__version__)"
   ]
  },
  {
   "cell_type": "markdown",
   "source": [
    "# pytorch 搭建skip-gram模型进行embedding转换\n",
    "\n",
    "- 目的：词汇embedding转换\n",
    "- 输入：输入文本(text)\n",
    "- 输出：embedding_lookup矩阵(model.state_dict()[\"in_embed.weight\"])\n",
    "- 主要步骤：\n",
    "1. 文本预处理\n",
    "2. 获取批次训练数据\n",
    "3. 构建模型及损失器\n",
    "4. 模型训练\n",
    "5. 词向量可视化"
   ],
   "metadata": {
    "collapsed": false
   }
  },
  {
   "cell_type": "markdown",
   "source": [
    "## 0.全局变量设置"
   ],
   "metadata": {
    "collapsed": false
   }
  },
  {
   "cell_type": "code",
   "execution_count": null,
   "outputs": [],
   "source": [
    "EMBEDDING_DIM = 2  # 词向量维度\n",
    "PRINT_EVERY = 1000  # 每训练多少步可视化一次\n",
    "EPOCHS = 1000  # 训练的轮数\n",
    "BATCH_SIZE = 5  # 每一批训练数据中输入词的个数\n",
    "N_SAMPLES = 3  # 每个批次中负样本个数， 如现在占目标词比例是3/(5*2)\n",
    "WINDOW_SIZE = 5  # 周边词窗口大小\n",
    "FREQ = 0  # 去除低频词的阈值\n",
    "Dropout_WORDS = False  # 是否进行高频词抽样处理"
   ],
   "metadata": {
    "collapsed": false,
    "pycharm": {
     "name": "#%%\n"
    }
   }
  },
  {
   "cell_type": "markdown",
   "source": [
    "## 1.文本预处理"
   ],
   "metadata": {
    "collapsed": false
   }
  },
  {
   "cell_type": "code",
   "execution_count": null,
   "outputs": [],
   "source": [
    "from collections import Counter\n",
    "# 文本预处理\n",
    "def preprocess(text, freq):\n",
    "    words = text.lower().split() # 转小写单词\n",
    "    # 过滤低频词\n",
    "    word_counts = Counter(words)\n",
    "    trimmed_words = [word for word in words if word_counts[word] > freq]\n",
    "    return trimmed_words"
   ],
   "metadata": {
    "collapsed": false,
    "pycharm": {
     "name": "#%%\n"
    }
   }
  },
  {
   "cell_type": "code",
   "execution_count": null,
   "outputs": [],
   "source": [
    "# 文本id化，建立单词和索引的一一映射\n",
    "def word_id_mapping(words):\n",
    "    word2id, id2word = {}, {}\n",
    "    for word in words:\n",
    "        if word not in word2id:\n",
    "            id = id2word\n",
    "            word2id[word] = id\n",
    "            id2word[id] = word\n",
    "    id_words= [word2id[word] for word in words]\n",
    "    return id_words, word2id, id2word"
   ],
   "metadata": {
    "collapsed": false,
    "pycharm": {
     "name": "#%%\n"
    }
   }
  },
  {
   "cell_type": "code",
   "execution_count": null,
   "outputs": [],
   "source": [
    "# 计算单词的频次及负采样概率（抽样及负采样需要）\n",
    "import numpy as np\n",
    "import torch\n",
    "def figure_freq(id_words):\n",
    "    cnt_words = Counter(id_words) # 单词集合\n",
    "    cnt_total = len(cnt_words) # 不重复单词个数\n",
    "    # 建立单词-频次映射 key: id_word, value: freq\n",
    "    word_freqs = {word: cnt/cnt_total for word, cnt in cnt_words.items()}\n",
    "    # 根据单词频次计算各id单词负采样概率\n",
    "    word_probs = np.array((list(word_freqs.values())))\n",
    "    noise_probs = torch.from_numpy(word_probs**0.75 / np.sum(word_freqs**0.75))\n",
    "\n",
    "    return word_freqs, noise_probs, cnt_words"
   ],
   "metadata": {
    "collapsed": false,
    "pycharm": {
     "name": "#%%\n"
    }
   }
  },
  {
   "cell_type": "code",
   "execution_count": 4,
   "outputs": [
    {
     "ename": "NameError",
     "evalue": "name 'Dropout_WORDS' is not defined",
     "output_type": "error",
     "traceback": [
      "\u001B[1;31m---------------------------------------------------------------------------\u001B[0m",
      "\u001B[1;31mNameError\u001B[0m                                 Traceback (most recent call last)",
      "\u001B[1;32mC:\\Users\\ADMINI~1\\AppData\\Local\\Temp/ipykernel_8400/2363704731.py\u001B[0m in \u001B[0;36m<module>\u001B[1;34m\u001B[0m\n\u001B[0;32m      1\u001B[0m \u001B[1;31m# 丢弃部分单词\u001B[0m\u001B[1;33m\u001B[0m\u001B[1;33m\u001B[0m\u001B[1;33m\u001B[0m\u001B[0m\n\u001B[0;32m      2\u001B[0m \u001B[1;32mimport\u001B[0m \u001B[0mrandom\u001B[0m\u001B[1;33m\u001B[0m\u001B[1;33m\u001B[0m\u001B[0m\n\u001B[1;32m----> 3\u001B[1;33m \u001B[1;32mif\u001B[0m \u001B[0mDropout_WORDS\u001B[0m\u001B[1;33m:\u001B[0m\u001B[1;33m\u001B[0m\u001B[1;33m\u001B[0m\u001B[0m\n\u001B[0m\u001B[0;32m      4\u001B[0m     \u001B[0mt\u001B[0m \u001B[1;33m=\u001B[0m \u001B[1;36m1e-5\u001B[0m\u001B[1;33m\u001B[0m\u001B[1;33m\u001B[0m\u001B[0m\n\u001B[0;32m      5\u001B[0m     \u001B[0mdrop_probs\u001B[0m \u001B[1;33m=\u001B[0m \u001B[1;33m{\u001B[0m\u001B[0mword\u001B[0m\u001B[1;33m:\u001B[0m \u001B[1;36m1\u001B[0m\u001B[1;33m-\u001B[0m\u001B[0mnp\u001B[0m\u001B[1;33m.\u001B[0m\u001B[0msqrt\u001B[0m\u001B[1;33m(\u001B[0m\u001B[0mt\u001B[0m\u001B[1;33m/\u001B[0m\u001B[0mword_freqs\u001B[0m\u001B[1;33m[\u001B[0m\u001B[0mw\u001B[0m\u001B[1;33m]\u001B[0m\u001B[1;33m)\u001B[0m \u001B[1;32mfor\u001B[0m \u001B[0mword\u001B[0m \u001B[1;32min\u001B[0m \u001B[0mid_word\u001B[0m\u001B[1;33m}\u001B[0m\u001B[1;33m\u001B[0m\u001B[1;33m\u001B[0m\u001B[0m\n",
      "\u001B[1;31mNameError\u001B[0m: name 'Dropout_WORDS' is not defined"
     ]
    }
   ],
   "source": [
    "# 丢弃部分单词\n",
    "import random\n",
    "def dropout_words(id_words, word_freqs, cnt_words):\n",
    "    if Dropout_WORDS:\n",
    "        # 根据各单词频次计算各单词丢弃概率\n",
    "        t = 1e-5\n",
    "        drop_probs = {word: 1-np.sqrt(t/word_freqs[word]) for word in cnt_words}\n",
    "        # 对文本进行随机丢弃\n",
    "        trimmed_words = [word for word in id_words if random.random()>drop_probs[word]]\n",
    "    else:\n",
    "        trimmed_words = id_words\n",
    "    return trimmed_words"
   ],
   "metadata": {
    "collapsed": false,
    "pycharm": {
     "name": "#%%\n"
    }
   }
  },
  {
   "cell_type": "code",
   "execution_count": null,
   "outputs": [],
   "source": [
    "# 执行函数进行文本预处理\n",
    "\n",
    "# 导入输入文本\n",
    "text = '\"i like dog i like cat i like animal dog cat animal apple cat dog like dog fish milk like dog \\\n",
    "cat eyes like i like apple apple i hate apple i movie book music like cat dog hate cat dog like\"'\n",
    "\n",
    "# 文本预处理\n",
    "words = preprocess(text, FREQ)\n",
    "\n",
    "# 文本id化，并建立单词和索引的一一映射\n",
    "id_words, word2id, id2word = word_id_mapping(words)\n",
    "\n",
    "# 计算单词的频次及负采样概率（抽样及负采样需要）\n",
    "words_freqs, noise_probs, cnt_words = figure_freq(id_words)\n",
    "\n",
    "# 丢弃部分单词\n",
    "id_words = dropout_words(id_words, words_freqs, cnt_words)"
   ],
   "metadata": {
    "collapsed": false,
    "pycharm": {
     "name": "#%%\n"
    }
   }
  },
  {
   "cell_type": "markdown",
   "source": [
    "## 2. 获取批次训练数据"
   ],
   "metadata": {
    "collapsed": false,
    "pycharm": {
     "name": "#%% md\n"
    }
   }
  },
  {
   "cell_type": "code",
   "execution_count": null,
   "outputs": [],
   "source": [
    "# 获取指定下标的输入词的周边词\n",
    "def get_targets(words, idx, window_size):\n",
    "    # 计算周边词起始位置, 考虑左侧滑动窗口小于0\n",
    "    start_idx = idx - window_size if (idx-window_size) > 0 else 0\n",
    "    end_idx = idx + window_size # 右侧如果超过整个words(非当前截断的),下标自动忽略\n",
    "    targets = words[start_idx:idx] + words[idx+1:end_idx+1]\n",
    "    return targets"
   ],
   "metadata": {
    "collapsed": false,
    "pycharm": {
     "name": "#%%\n"
    }
   }
  },
  {
   "cell_type": "code",
   "execution_count": null,
   "outputs": [],
   "source": [
    "# 获取批次（输入-输出）词对, 词对shape=(batchsize*(2*windowsize), batchsize*(2*windowsize))\n",
    "def get_batch(words, batch_size, window_size):\n",
    "    batchs = len(words) // batch_size # 计算最多分几批进行训练\n",
    "    words = words[:batchs*batch_size] # 仅满足尺寸要求的批训练数据可参与训练\n",
    "\n",
    "    for idx in range(0, len(words), batch_size):\n",
    "        batch_X, batch_y = [], []\n",
    "        cur_batch = words[idx:idx+batch_size] # 当前输入词窗口\n",
    "        for jdx in range(batch_size):\n",
    "            x = cur_batch[jdx] # 获取输入词\n",
    "            y = get_targets(cur_batch, jdx, window_size) # 获取输出词\n",
    "            # 一个输入对多个输出，为了使输入输出一致，复制x\n",
    "            batch_X.extend([x]*len(y))\n",
    "            batch_y.extend(y)\n",
    "        yield batch_X, batch_y"
   ],
   "metadata": {
    "collapsed": false,
    "pycharm": {
     "name": "#%%\n"
    }
   }
  },
  {
   "cell_type": "markdown",
   "source": [
    "## 3. 构建模型及损失器"
   ],
   "metadata": {
    "collapsed": false,
    "pycharm": {
     "name": "#%% md\n"
    }
   }
  },
  {
   "cell_type": "code",
   "execution_count": null,
   "outputs": [],
   "source": [
    "from torch import nn, optim\n",
    "\n",
    "# 构建skip-gram模型（带负采样）\n",
    "class SkipGramNeg(nn.Module):\n",
    "    def __init__(self, n_word, n_embed, noise_probs):\n",
    "        super(SkipGramNeg, self).__init__()\n",
    "        self.n_word = n_word # 词向量矩阵行数，即embed_lookup词典大小\n",
    "        self.n_embed = n_embed # 词向量维度，如google一般300维\n",
    "        self.noise_probs = noise_probs # 每个id单词作为负样本被抽样的概率\n",
    "        # 定义词向量层，包括中心词(input)层和目标词(output)层\n",
    "        self.in_embed = nn.Embedding(n_word, n_embed)\n",
    "        self.out_embed = nn.Embedding(n_word, n_embed)\n",
    "        # 词向量层参数初始化\n",
    "        #self.in_embed.weight.data.uniform_(-1, 1)\n",
    "        #self.out_embed.weight.data.uniform_(-1, 1)\n",
    "\n",
    "    # 中心词的前向过程，即获取中心词转化后的词向量(词id对应的行词向量)\n",
    "    def forward_input(self, input_words):\n",
    "        input_vectors = self.in_embed(input_words)\n",
    "        return input_vectors\n",
    "\n",
    "    # 目标词的前向过程，即获取目标词转化后的词向量(词id对应的行词向量)\n",
    "    def forward_output(self, output_words):\n",
    "        output_vectors = self.out_embed(output_words)\n",
    "        return output_vectors\n",
    "\n",
    "    # 负样本词的前向过程，即获取负样本转化后的词向量(被抽样后的词id对应的行词向量)， 同用outembed层\n",
    "    def forward_noise(self, batch_size, n_samples):\n",
    "        # 词汇负采样映射(noise_probs)：key:词id. value:负采样可能概率\n",
    "        # torch.multinomial对input中非0向量进行有放回随机抽样，值越大抽样概率越大\n",
    "        # 一个batch的output.shape==batch_size*(2*win_size),\n",
    "        noise_words = torch.multinomial(self.noise_probs,\n",
    "                                        batch_size*n_samples,\n",
    "                                        replacement=True)"
   ],
   "metadata": {
    "collapsed": false,
    "pycharm": {
     "name": "#%%\n"
    }
   }
  },
  {
   "cell_type": "code",
   "execution_count": null,
   "outputs": [],
   "source": [
    "# 构造损失函数\n",
    "class NegativeSamplingLoss(nn.Module):\n",
    "    def __init__(self, n_embed):\n",
    "        super(NegativeSamplingLoss, self).__init__()\n",
    "        self.n_embed = n_embed # 词向量维度\n",
    "\n",
    "    def forward(self, input_vectors, output_vectors, noise_vectors):\n",
    "        batch_size, _ = input_vectors.shape\n",
    "        # view方法重构输入词， 目标词向量维度\n",
    "        input_vectors = input_vectors.view(batch_size, self.n_embed, 1)\n",
    "        output_vectors = output_vectors.view(batch_size, 1, self.n_embed)\n",
    "        # 计算目标词和负样本损失\n",
    "        out_loss = torch.bmm(output_vectors, input_vectors).sigmoid().log() # bmm求矩阵乘\n",
    "        out_loss = out_loss.squeeze() # 维度压缩\n",
    "\n",
    "        noise_loss = torch.bmm(noise_vectors.neg(), # !\n",
    "                               input_vectors).sigmoid().log()\n",
    "        noise_loss = noise_loss.squeeze().sum(1)\n",
    "        #综合损失\n",
    "        return -(out_loss + noise_loss).mean()"
   ],
   "metadata": {
    "collapsed": false,
    "pycharm": {
     "name": "#%%\n"
    }
   }
  },
  {
   "cell_type": "code",
   "execution_count": null,
   "outputs": [],
   "source": [
    "# 模型、损失函数、优化器初始化\n",
    "model = SkipGramNeg(n_word=len(word2id),\n",
    "                    n_embed=EMBEDDING_DIM, noise_probs=noise_probs)\n",
    "criterion = NegativeSamplingLoss(n_embed=EMBEDDING_DIM)\n",
    "optimizer = optim.Adam(model.parameters(), lr=0.0001)"
   ],
   "metadata": {
    "collapsed": false,
    "pycharm": {
     "name": "#%%\n"
    }
   }
  },
  {
   "cell_type": "markdown",
   "source": [
    "## 4. 模型训练"
   ],
   "metadata": {
    "collapsed": false,
    "pycharm": {
     "name": "#%% md\n"
    }
   }
  },
  {
   "cell_type": "code",
   "execution_count": null,
   "outputs": [],
   "source": [
    "steps = 0\n",
    "for epoch in range(EPOCHS):"
   ],
   "metadata": {
    "collapsed": false,
    "pycharm": {
     "name": "#%%\n"
    }
   }
  }
 ],
 "metadata": {
  "kernelspec": {
   "display_name": "Python 3",
   "language": "python",
   "name": "python3"
  },
  "language_info": {
   "codemirror_mode": {
    "name": "ipython",
    "version": 2
   },
   "file_extension": ".py",
   "mimetype": "text/x-python",
   "name": "python",
   "nbconvert_exporter": "python",
   "pygments_lexer": "ipython2",
   "version": "2.7.6"
  }
 },
 "nbformat": 4,
 "nbformat_minor": 0
}