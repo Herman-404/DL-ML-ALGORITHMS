{
 "cells": [
  {
   "cell_type": "markdown",
   "metadata": {
    "collapsed": true,
    "pycharm": {
     "name": "#%% md\n"
    }
   },
   "source": [
    "python 3.7 and pytorch 1.8"
   ]
  },
  {
   "cell_type": "markdown",
   "source": [
    "# pytorch 搭建简单MLP模型\n",
    "\n",
    "- 目的：\n",
    "- 输入：\n",
    "- 输出：\n",
    "- 主要步骤：\n",
    "1."
   ],
   "metadata": {
    "collapsed": false
   }
  },
  {
   "cell_type": "code",
   "execution_count": null,
   "outputs": [],
   "source": [
    "# 0. 初始化全局变量\n",
    "INPUT_DIM = 128  # 输入数据的大小为 128\n",
    "HIDDEN_DIM = 216  # 隐层大小为 216，或者叫latent_dim\n",
    "OUTPUT_DIM = 3  # 输出大小为 3\n"
   ],
   "metadata": {
    "collapsed": false,
    "pycharm": {
     "name": "#%%\n"
    }
   }
  },
  {
   "cell_type": "code",
   "execution_count": null,
   "outputs": [],
   "source": [
    "# 1. 建立模型\n",
    "import torch.nn as nn\n",
    "# F 相当于tf中的layers，具有多种层类型\n",
    "import torch.nn.functional as F\n",
    "\n",
    "class Net(nn.Module):\n",
    "    # 模型定义，继承 Module 类\n",
    "    def __init__(self, input_dim, hidden_dim, output_dim):\n",
    "        super(Net, self).__init__()\n",
    "        # 隐藏层，参数大小：input_dim * hidden_dim\n",
    "        self.fc1 = nn.Linear(input_dim, hidden_dim)\n",
    "        # 输出层，参数大小：hidden_dim * output_dim\n",
    "        self.fc2 = nn.Linear(hidden_dim, output_dim)\n",
    "\n",
    "    def forward(self, x):\n",
    "        x = self.fc1(x)  # 输入 x 经过隐藏层线性运算\n",
    "        x = F.relu(x)  # 经过激活函数 ReLU 运算\n",
    "        x = F.relu(self.fc2(x))  # 经过输出层线性及激活运算，最后输出\n",
    "        return x"
   ],
   "metadata": {
    "collapsed": false,
    "pycharm": {
     "name": "#%%\n"
    }
   }
  },
  {
   "cell_type": "code",
   "execution_count": null,
   "outputs": [],
   "source": [
    "# 模型初始化\n",
    "my_first_model = Net(INPUT_DIM, HIDDEN_DIM, OUTPUT_DIM)\n",
    "print(my_first_model)  # 打印显示模型结构"
   ],
   "metadata": {
    "collapsed": false,
    "pycharm": {
     "name": "#%%\n"
    }
   }
  },
  {
   "cell_type": "markdown",
   "source": [
    "# 训练模型\n",
    "import torch\n",
    "# 生成模拟数据\n",
    "N = 10  # 假设一批数据为 10 个\n",
    "x = torch.randn(N, INPUT_DIM)  # 数据大小: [10，128]"
   ],
   "metadata": {
    "collapsed": false,
    "pycharm": {
     "name": "#%% md\n"
    }
   }
  },
  {
   "cell_type": "code",
   "execution_count": null,
   "outputs": [],
   "source": [
    "output = my_first_model(x)  # 不需要调用 forward（）\n",
    "print(output)\n",
    "print(output.shape)\n"
   ],
   "metadata": {
    "collapsed": false,
    "pycharm": {
     "name": "#%%\n"
    }
   }
  }
 ],
 "metadata": {
  "kernelspec": {
   "display_name": "Python 3",
   "language": "python",
   "name": "python3"
  },
  "language_info": {
   "codemirror_mode": {
    "name": "ipython",
    "version": 2
   },
   "file_extension": ".py",
   "mimetype": "text/x-python",
   "name": "python",
   "nbconvert_exporter": "python",
   "pygments_lexer": "ipython2",
   "version": "2.7.6"
  }
 },
 "nbformat": 4,
 "nbformat_minor": 0
}