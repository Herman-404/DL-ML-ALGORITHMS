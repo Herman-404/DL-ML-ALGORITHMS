{
 "cells": [
  {
   "cell_type": "markdown",
   "metadata": {
    "collapsed": true,
    "pycharm": {
     "name": "#%% md\n"
    }
   },
   "source": [
    "python 3.7"
   ]
  },
  {
   "cell_type": "markdown",
   "source": [
    "# 利用Gensim中的Word2Vec库进行embedding转换\n",
    "\n",
    "- 目的：词汇embedding转换、查询相近词\n",
    "- 输入：输入语料库(text)，查询单词\n",
    "- 输出：词向量、相近词(model['word'] \\ model.wv.similar_by_word(\"word\", topn=10))\n",
    "- 主要步骤：\n",
    "1. 文本预处理\n",
    "2. 模型训练\n",
    "3. 相关查询"
   ],
   "metadata": {
    "collapsed": false,
    "pycharm": {
     "name": "#%% md\n"
    }
   }
  },
  {
   "cell_type": "markdown",
   "source": [
    "## 1. 文本预处理"
   ],
   "metadata": {
    "collapsed": false,
    "pycharm": {
     "name": "#%% md\n"
    }
   }
  },
  {
   "cell_type": "code",
   "execution_count": null,
   "outputs": [],
   "source": [
    "import re\n",
    "import jieba\n",
    "\n",
    "def preprocess(file_path):\n",
    "    texts = []\n",
    "    with open(file_path, \"r\", encoding=\"utf-8\") as f:\n",
    "        for text in f.readlines():\n",
    "            text = re.sub(\"[^\\u4e00-\\u9fa5。？．，！：]\", \"\",\n",
    "                          text.strip())  # 只保留中文以及基本的标点符号\n",
    "            text_splited = re.split(\"[。？．，！：]\", text)  # 按照基本的标点符号进行分块\n",
    "            texts += text_splited\n",
    "    text = [jieba.lcut(text)\n",
    "                   for text in texts if text is not \"\"]  # 去除空字符且分词\n",
    "    return text"
   ],
   "metadata": {
    "collapsed": false,
    "pycharm": {
     "name": "#%%\n"
    }
   }
  },
  {
   "cell_type": "code",
   "execution_count": null,
   "outputs": [],
   "source": [
    "text = preprocess('/text_files/test.txt')"
   ],
   "metadata": {
    "collapsed": false,
    "pycharm": {
     "name": "#%%\n"
    }
   }
  },
  {
   "cell_type": "markdown",
   "source": [
    "## 2. 模型训练"
   ],
   "metadata": {
    "collapsed": false,
    "pycharm": {
     "name": "#%% md\n"
    }
   }
  },
  {
   "cell_type": "code",
   "execution_count": null,
   "outputs": [],
   "source": [
    "from gensim.models import word2vec\n",
    "model = word2vec.Word2Vec(text, min_count=2, window=5, vector_size=100)"
   ],
   "metadata": {
    "collapsed": false,
    "pycharm": {
     "name": "#%%\n"
    }
   }
  },
  {
   "cell_type": "markdown",
   "source": [
    "## 3. 相关查询"
   ],
   "metadata": {
    "collapsed": false,
    "pycharm": {
     "name": "#%% md\n"
    }
   }
  },
  {
   "cell_type": "code",
   "execution_count": null,
   "outputs": [],
   "source": [
    "print(model[\"Jack\"])"
   ],
   "metadata": {
    "collapsed": false,
    "pycharm": {
     "name": "#%%\n"
    }
   }
  },
  {
   "cell_type": "code",
   "execution_count": null,
   "outputs": [],
   "source": [
    "print(model.wv.similar_by_word(\"Jack\", topn=10))\n",
    "\n"
   ],
   "metadata": {
    "collapsed": false,
    "pycharm": {
     "name": "#%%\n"
    }
   }
  }
 ],
 "metadata": {
  "kernelspec": {
   "display_name": "Python 3",
   "language": "python",
   "name": "python3"
  },
  "language_info": {
   "codemirror_mode": {
    "name": "ipython",
    "version": 2
   },
   "file_extension": ".py",
   "mimetype": "text/x-python",
   "name": "python",
   "nbconvert_exporter": "python",
   "pygments_lexer": "ipython2",
   "version": "2.7.6"
  }
 },
 "nbformat": 4,
 "nbformat_minor": 0
}